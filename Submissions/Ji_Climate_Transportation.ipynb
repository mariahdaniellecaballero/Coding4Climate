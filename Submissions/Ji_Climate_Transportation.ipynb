{
 "cells": [
  {
   "cell_type": "markdown",
   "id": "79d07d66",
   "metadata": {},
   "source": [
    "# DARTE_v2.gdb need to be downloaded from the data sources (ORNL)"
   ]
  },
  {
   "cell_type": "code",
   "execution_count": 7,
   "id": "4d2cf1d6",
   "metadata": {},
   "outputs": [
    {
     "name": "stdout",
     "output_type": "stream",
     "text": [
      "CPU times: user 1min 32s, sys: 1.4 s, total: 1min 34s\n",
      "Wall time: 1min 34s\n"
     ]
    }
   ],
   "source": [
    "%%time\n",
    "import geopandas as gpd\n",
    "gdb = 'DARTE_v2.gdb'\n",
    "fc = gpd.read_file(gdb)"
   ]
  },
  {
   "cell_type": "markdown",
   "id": "40fd2817",
   "metadata": {},
   "source": [
    "The data is large so it takes time to load into process (~2min)"
   ]
  },
  {
   "cell_type": "markdown",
   "id": "5a613353",
   "metadata": {},
   "source": [
    "## fc.columns shows the information it contains"
   ]
  },
  {
   "cell_type": "code",
   "execution_count": 8,
   "id": "93839bb3",
   "metadata": {},
   "outputs": [
    {
     "data": {
      "text/plain": [
       "Index(['GEOID', 'bg_area_m2', 'geo_num', 'kgco2_1980', 'kgco2_1981',\n",
       "       'kgco2_1982', 'kgco2_1983', 'kgco2_1984', 'kgco2_1985', 'kgco2_1986',\n",
       "       'kgco2_1987', 'kgco2_1988', 'kgco2_1989', 'kgco2_1990', 'kgco2_1991',\n",
       "       'kgco2_1992', 'kgco2_1993', 'kgco2_1994', 'kgco2_1995', 'kgco2_1996',\n",
       "       'kgco2_1997', 'kgco2_1998', 'kgco2_1999', 'kgco2_2000', 'kgco2_2001',\n",
       "       'kgco2_2002', 'kgco2_2003', 'kgco2_2004', 'kgco2_2005', 'kgco2_2006',\n",
       "       'kgco2_2007', 'kgco2_2008', 'kgco2_2009', 'kgco2_2010', 'kgco2_2011',\n",
       "       'kgco2_2012', 'kgco2_2013', 'kgco2_2014', 'kgco2_2015', 'kgco2_2016',\n",
       "       'kgco2_2017', 'Shape_Length', 'Shape_Area', 'geometry'],\n",
       "      dtype='object')"
      ]
     },
     "execution_count": 8,
     "metadata": {},
     "output_type": "execute_result"
    }
   ],
   "source": [
    "fc.columns"
   ]
  },
  {
   "cell_type": "markdown",
   "id": "fe953632",
   "metadata": {},
   "source": [
    "### GEOID is the ID of each region:\n",
    "\n",
    "A 12-digit GEOID (Geographic Identifier) is commonly used in U.S. geographical statistical data to uniquely identify a geographical location. This identifier is composed of different parts, each representing a different geographical unit. The 12-digit GEOID is typically used to describe smaller geographical units, such as census block-level data. Here's the structure and meaning of the 12-digit GEOID:\n",
    "\n",
    "- The first two digits represent the State code. Each state has a unique two-digit code.\n",
    "- The next three digits are the County code. Within each state, each county has a unique three-digit code.\n",
    "- The following six digits represent the Census Tract. This is used to further subdivide counties into geographic areas.\n",
    "- The final part is a one-digit Block code. This is the smallest geographic unit, and within each tract, each block has a unique one-digit code.\n",
    "\n",
    "\n",
    "### bg_area_m2 is the area of each region, unit in m2\n",
    "\n",
    "### kgco2_XXXX is the annual CO2 for each region\n",
    "This data set provides a 38-year, 1-km resolution inventory of annual on-road CO2 emissions for the conterminous United States based on roadway-level vehicle traffic data and state-specific emissions factors for multiple vehicle types on urban and rural roads as compiled in the Database of Road Transportation Emissions (DARTE).\n",
    "\n"
   ]
  },
  {
   "cell_type": "markdown",
   "id": "5a7472ce",
   "metadata": {},
   "source": [
    "# How many unique region?"
   ]
  },
  {
   "cell_type": "code",
   "execution_count": 12,
   "id": "926adab0",
   "metadata": {},
   "outputs": [
    {
     "data": {
      "text/plain": [
       "220333"
      ]
     },
     "execution_count": 12,
     "metadata": {},
     "output_type": "execute_result"
    }
   ],
   "source": [
    "len(fc.GEOID.unique())"
   ]
  },
  {
   "cell_type": "markdown",
   "id": "01db9013",
   "metadata": {},
   "source": [
    "# Area of the first region"
   ]
  },
  {
   "cell_type": "code",
   "execution_count": 16,
   "id": "90eb85d9",
   "metadata": {},
   "outputs": [
    {
     "data": {
      "text/plain": [
       "6974537.80960697"
      ]
     },
     "execution_count": 16,
     "metadata": {},
     "output_type": "execute_result"
    }
   ],
   "source": [
    "fc['bg_area_m2'][0]"
   ]
  },
  {
   "cell_type": "markdown",
   "id": "802f53f1",
   "metadata": {},
   "source": [
    "# Extract the useful information for plot and figure\n",
    "'GEOID','kgco2_2017','bg_area_m2'\n",
    "\n",
    "To calculate the CO2 in 2017, raw unit in kilograms\n",
    "\n",
    "The code is to get the County and State number of each subregion"
   ]
  },
  {
   "cell_type": "code",
   "execution_count": 17,
   "id": "1cfa7326",
   "metadata": {},
   "outputs": [
    {
     "name": "stderr",
     "output_type": "stream",
     "text": [
      "/var/folders/5d/p9vn920s48q67rgbvw9p_1km0000gn/T/ipykernel_1243/1295242952.py:2: SettingWithCopyWarning: \n",
      "A value is trying to be set on a copy of a slice from a DataFrame.\n",
      "Try using .loc[row_indexer,col_indexer] = value instead\n",
      "\n",
      "See the caveats in the documentation: https://pandas.pydata.org/pandas-docs/stable/user_guide/indexing.html#returning-a-view-versus-a-copy\n",
      "  data['County']=data['GEOID'].apply(lambda v: v[:5])\n",
      "/var/folders/5d/p9vn920s48q67rgbvw9p_1km0000gn/T/ipykernel_1243/1295242952.py:3: SettingWithCopyWarning: \n",
      "A value is trying to be set on a copy of a slice from a DataFrame.\n",
      "Try using .loc[row_indexer,col_indexer] = value instead\n",
      "\n",
      "See the caveats in the documentation: https://pandas.pydata.org/pandas-docs/stable/user_guide/indexing.html#returning-a-view-versus-a-copy\n",
      "  data['State']=data['GEOID'].apply(lambda v: v[:2])\n"
     ]
    }
   ],
   "source": [
    "data = fc[['GEOID','kgco2_2017','bg_area_m2']]\n",
    "data['County']=data['GEOID'].apply(lambda v: v[:5])\n",
    "data['State']=data['GEOID'].apply(lambda v: v[:2])"
   ]
  },
  {
   "cell_type": "markdown",
   "id": "902c7fe5",
   "metadata": {},
   "source": [
    "# National number"
   ]
  },
  {
   "cell_type": "code",
   "execution_count": 23,
   "id": "4c496bfb",
   "metadata": {},
   "outputs": [
    {
     "data": {
      "text/plain": [
       "1747657704"
      ]
     },
     "execution_count": 23,
     "metadata": {},
     "output_type": "execute_result"
    }
   ],
   "source": [
    "round(data.kgco2_2017.sum()/907.2)"
   ]
  },
  {
   "cell_type": "markdown",
   "id": "a7f8fe95",
   "metadata": {},
   "source": [
    "# Davidson County, GEOID 47037"
   ]
  },
  {
   "cell_type": "code",
   "execution_count": 24,
   "id": "b63cf399",
   "metadata": {},
   "outputs": [
    {
     "data": {
      "text/plain": [
       "6026327.0"
      ]
     },
     "execution_count": 24,
     "metadata": {},
     "output_type": "execute_result"
    }
   ],
   "source": [
    "round(data[data.County == '47037'].kgco2_2017.sum()/907.2,0)"
   ]
  },
  {
   "cell_type": "code",
   "execution_count": 25,
   "id": "3b9946a1",
   "metadata": {},
   "outputs": [
    {
     "data": {
      "text/plain": [
       "521.3176839131215"
      ]
     },
     "execution_count": 25,
     "metadata": {},
     "output_type": "execute_result"
    }
   ],
   "source": [
    "data[data.County == '47037'].bg_area_m2.sum()*3.861E-7"
   ]
  },
  {
   "cell_type": "markdown",
   "id": "99a138a4",
   "metadata": {},
   "source": [
    "# TN, GEOID 47"
   ]
  },
  {
   "cell_type": "code",
   "execution_count": 27,
   "id": "656eb44f",
   "metadata": {},
   "outputs": [
    {
     "data": {
      "text/plain": [
       "41989164.0"
      ]
     },
     "execution_count": 27,
     "metadata": {},
     "output_type": "execute_result"
    }
   ],
   "source": [
    "round(data[data.State == '47'].kgco2_2017.sum()/907.2,0)"
   ]
  },
  {
   "cell_type": "code",
   "execution_count": 28,
   "id": "89bcc173",
   "metadata": {},
   "outputs": [
    {
     "data": {
      "text/plain": [
       "41819.12192945298"
      ]
     },
     "execution_count": 28,
     "metadata": {},
     "output_type": "execute_result"
    }
   ],
   "source": [
    "data[data.State == '47'].bg_area_m2.sum()*3.861E-7"
   ]
  },
  {
   "cell_type": "markdown",
   "id": "f602aeed",
   "metadata": {},
   "source": [
    "# Southeast, GEOID ['01', '12', '13', '21', '28', '37', '45', '47']"
   ]
  },
  {
   "cell_type": "code",
   "execution_count": 29,
   "id": "fcde7467",
   "metadata": {},
   "outputs": [
    {
     "name": "stdout",
     "output_type": "stream",
     "text": [
      "958.648356767102\n"
     ]
    }
   ],
   "source": [
    "states_list = ['01', '12', '13', '21', '28', '37', '45', '47']\n",
    "co2 = round(data[data['State'].isin(states_list)].kgco2_2017.sum()/907.2,0)\n",
    "area = round(data[data['State'].isin(states_list)].bg_area_m2.sum()*3.861E-7,0)\n",
    "print(co2/area)"
   ]
  },
  {
   "cell_type": "code",
   "execution_count": 30,
   "id": "41b82562",
   "metadata": {},
   "outputs": [],
   "source": [
    "co2 = round(data.kgco2_2017.sum()/907.2,0)\n",
    "co = round(data.kgco2_2017.sum()/907.2,0)"
   ]
  },
  {
   "cell_type": "code",
   "execution_count": 35,
   "id": "bfc869f8",
   "metadata": {},
   "outputs": [
    {
     "data": {
      "text/plain": [
       "3957886.0"
      ]
     },
     "execution_count": 35,
     "metadata": {},
     "output_type": "execute_result"
    }
   ],
   "source": [
    "round(data.bg_area_m2.sum()*3.861E-7,0)"
   ]
  },
  {
   "cell_type": "code",
   "execution_count": 36,
   "id": "f3283fa3",
   "metadata": {},
   "outputs": [
    {
     "data": {
      "text/plain": [
       "5.375754241771762"
      ]
     },
     "execution_count": 36,
     "metadata": {},
     "output_type": "execute_result"
    }
   ],
   "source": [
    "1747657704/(325.1*1.0E+6)"
   ]
  },
  {
   "cell_type": "code",
   "execution_count": 37,
   "id": "babc6e84",
   "metadata": {},
   "outputs": [
    {
     "data": {
      "text/plain": [
       "5.760209016691622"
      ]
     },
     "execution_count": 37,
     "metadata": {},
     "output_type": "execute_result"
    }
   ],
   "source": [
    "378679522/(65740587)"
   ]
  },
  {
   "cell_type": "code",
   "execution_count": 38,
   "id": "5b7c9f5f",
   "metadata": {},
   "outputs": [
    {
     "data": {
      "text/plain": [
       "6.253040059568131"
      ]
     },
     "execution_count": 38,
     "metadata": {},
     "output_type": "execute_result"
    }
   ],
   "source": [
    "41989164/(6.715*1.0E+6)"
   ]
  },
  {
   "cell_type": "code",
   "execution_count": 116,
   "id": "abf64bc2",
   "metadata": {},
   "outputs": [
    {
     "data": {
      "text/plain": [
       "8.761641330138643"
      ]
     },
     "execution_count": 116,
     "metadata": {},
     "output_type": "execute_result"
    }
   ],
   "source": [
    "6026327.0/687808"
   ]
  },
  {
   "cell_type": "code",
   "execution_count": null,
   "id": "2fc44c50",
   "metadata": {},
   "outputs": [],
   "source": []
  }
 ],
 "metadata": {
  "kernelspec": {
   "display_name": "Python 3 (ipykernel)",
   "language": "python",
   "name": "python3"
  },
  "language_info": {
   "codemirror_mode": {
    "name": "ipython",
    "version": 3
   },
   "file_extension": ".py",
   "mimetype": "text/x-python",
   "name": "python",
   "nbconvert_exporter": "python",
   "pygments_lexer": "ipython3",
   "version": "3.11.5"
  }
 },
 "nbformat": 4,
 "nbformat_minor": 5
}
